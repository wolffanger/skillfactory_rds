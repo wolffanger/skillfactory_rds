{
 "cells": [
  {
   "cell_type": "code",
   "execution_count": 2,
   "metadata": {},
   "outputs": [
    {
     "name": "stdout",
     "output_type": "stream",
     "text": [
      "Ваш алгоритм угадывает число в среднем за 3 попыток\n"
     ]
    },
    {
     "data": {
      "text/plain": [
       "3"
      ]
     },
     "execution_count": 2,
     "metadata": {},
     "output_type": "execute_result"
    }
   ],
   "source": [
    "import numpy as np\n",
    "\n",
    "#Импорт функции, реализующей функциональность игры на определение псевдослучайного числа в диапазоне 0–100.\n",
    "from main import game_core_v2\n",
    "\n",
    "\"\"\"Импорт функции, инициирующей запуск игры n раз с подстановкой n псевдослучайных чисел и возвращающей среднее\n",
    "для n запусков количество попыток, которые требуются программе на «угадывание» такого числа \n",
    "\"\"\"\n",
    "from main import score_game\n",
    "\n",
    "\n",
    "\"\"\"Вызов функции, инициирующей запуск игры на поиск псевдослучайного числа в пространстве чисел от 0 до 100\n",
    "заданное число раз (в качестве аргумента принимает имя функции, в которой реализована функциональность игры)\"\"\"\n",
    "score_game(game_core_v2)"
   ]
  }
 ],
 "metadata": {
  "kernelspec": {
   "display_name": "Python 3",
   "language": "python",
   "name": "python3"
  },
  "language_info": {
   "codemirror_mode": {
    "name": "ipython",
    "version": 3
   },
   "file_extension": ".py",
   "mimetype": "text/x-python",
   "name": "python",
   "nbconvert_exporter": "python",
   "pygments_lexer": "ipython3",
   "version": "3.7.6"
  }
 },
 "nbformat": 4,
 "nbformat_minor": 4
}
